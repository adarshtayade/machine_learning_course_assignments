{
 "cells": [
  {
   "cell_type": "markdown",
   "id": "3115c67d",
   "metadata": {},
   "source": [
    "# Import libraries"
   ]
  },
  {
   "cell_type": "code",
   "execution_count": 19,
   "id": "38b88985",
   "metadata": {},
   "outputs": [],
   "source": [
    "import numpy as np\n",
    "import pandas as pd\n",
    "import matplotlib.pyplot as plt\n",
    "from sklearn.linear_model import LinearRegression\n",
    "import seaborn as sns  \n",
    "import warnings \n",
    "warnings.filterwarnings('ignore')"
   ]
  },
  {
   "cell_type": "markdown",
   "id": "d6721629",
   "metadata": {},
   "source": [
    "# Dataset: Telecom Churn Dataset (Telecom_churn_data.csv)"
   ]
  },
  {
   "cell_type": "markdown",
   "id": "7d0bd3e7",
   "metadata": {},
   "source": [
    "## Load Data and Write script to perform following operations."
   ]
  },
  {
   "cell_type": "markdown",
   "id": "2c0d5829",
   "metadata": {},
   "source": [
    "### 1. Load the data and display the structure."
   ]
  },
  {
   "cell_type": "code",
   "execution_count": 4,
   "id": "d4cd3860",
   "metadata": {},
   "outputs": [
    {
     "data": {
      "text/html": [
       "<div>\n",
       "<style scoped>\n",
       "    .dataframe tbody tr th:only-of-type {\n",
       "        vertical-align: middle;\n",
       "    }\n",
       "\n",
       "    .dataframe tbody tr th {\n",
       "        vertical-align: top;\n",
       "    }\n",
       "\n",
       "    .dataframe thead th {\n",
       "        text-align: right;\n",
       "    }\n",
       "</style>\n",
       "<table border=\"1\" class=\"dataframe\">\n",
       "  <thead>\n",
       "    <tr style=\"text-align: right;\">\n",
       "      <th></th>\n",
       "      <th>id</th>\n",
       "      <th>room_id/id</th>\n",
       "      <th>noted_date</th>\n",
       "      <th>temp</th>\n",
       "      <th>out/in</th>\n",
       "    </tr>\n",
       "  </thead>\n",
       "  <tbody>\n",
       "    <tr>\n",
       "      <th>0</th>\n",
       "      <td>__export__.temp_log_196134_bd201015</td>\n",
       "      <td>Room Admin</td>\n",
       "      <td>08-12-2018 09:30</td>\n",
       "      <td>29</td>\n",
       "      <td>In</td>\n",
       "    </tr>\n",
       "    <tr>\n",
       "      <th>1</th>\n",
       "      <td>__export__.temp_log_196131_7bca51bc</td>\n",
       "      <td>Room Admin</td>\n",
       "      <td>08-12-2018 09:30</td>\n",
       "      <td>29</td>\n",
       "      <td>In</td>\n",
       "    </tr>\n",
       "    <tr>\n",
       "      <th>2</th>\n",
       "      <td>__export__.temp_log_196127_522915e3</td>\n",
       "      <td>Room Admin</td>\n",
       "      <td>08-12-2018 09:29</td>\n",
       "      <td>41</td>\n",
       "      <td>Out</td>\n",
       "    </tr>\n",
       "    <tr>\n",
       "      <th>3</th>\n",
       "      <td>__export__.temp_log_196128_be0919cf</td>\n",
       "      <td>Room Admin</td>\n",
       "      <td>08-12-2018 09:29</td>\n",
       "      <td>41</td>\n",
       "      <td>Out</td>\n",
       "    </tr>\n",
       "    <tr>\n",
       "      <th>4</th>\n",
       "      <td>__export__.temp_log_196126_d30b72fb</td>\n",
       "      <td>Room Admin</td>\n",
       "      <td>08-12-2018 09:29</td>\n",
       "      <td>31</td>\n",
       "      <td>In</td>\n",
       "    </tr>\n",
       "    <tr>\n",
       "      <th>5</th>\n",
       "      <td>__export__.temp_log_196125_b0fa0b41</td>\n",
       "      <td>Room Admin</td>\n",
       "      <td>08-12-2018 09:29</td>\n",
       "      <td>31</td>\n",
       "      <td>In</td>\n",
       "    </tr>\n",
       "    <tr>\n",
       "      <th>6</th>\n",
       "      <td>__export__.temp_log_196121_01544d45</td>\n",
       "      <td>Room Admin</td>\n",
       "      <td>08-12-2018 09:28</td>\n",
       "      <td>29</td>\n",
       "      <td>In</td>\n",
       "    </tr>\n",
       "    <tr>\n",
       "      <th>7</th>\n",
       "      <td>__export__.temp_log_196122_f8b80a9f</td>\n",
       "      <td>Room Admin</td>\n",
       "      <td>08-12-2018 09:28</td>\n",
       "      <td>29</td>\n",
       "      <td>In</td>\n",
       "    </tr>\n",
       "    <tr>\n",
       "      <th>8</th>\n",
       "      <td>__export__.temp_log_196111_6b7a0848</td>\n",
       "      <td>Room Admin</td>\n",
       "      <td>08-12-2018 09:26</td>\n",
       "      <td>29</td>\n",
       "      <td>In</td>\n",
       "    </tr>\n",
       "    <tr>\n",
       "      <th>9</th>\n",
       "      <td>__export__.temp_log_196112_e134aebd</td>\n",
       "      <td>Room Admin</td>\n",
       "      <td>08-12-2018 09:26</td>\n",
       "      <td>29</td>\n",
       "      <td>In</td>\n",
       "    </tr>\n",
       "    <tr>\n",
       "      <th>10</th>\n",
       "      <td>__export__.temp_log_196108_4a983c7e</td>\n",
       "      <td>Room Admin</td>\n",
       "      <td>08-12-2018 09:25</td>\n",
       "      <td>42</td>\n",
       "      <td>Out</td>\n",
       "    </tr>\n",
       "    <tr>\n",
       "      <th>11</th>\n",
       "      <td>__export__.temp_log_196108_4a983c7e</td>\n",
       "      <td>Room Admin</td>\n",
       "      <td>08-12-2018 09:25</td>\n",
       "      <td>42</td>\n",
       "      <td>Out</td>\n",
       "    </tr>\n",
       "    <tr>\n",
       "      <th>12</th>\n",
       "      <td>__export__.temp_log_196101_d5ec7633</td>\n",
       "      <td>Room Admin</td>\n",
       "      <td>08-12-2018 09:24</td>\n",
       "      <td>29</td>\n",
       "      <td>In</td>\n",
       "    </tr>\n",
       "    <tr>\n",
       "      <th>13</th>\n",
       "      <td>__export__.temp_log_196099_3b8ef67b</td>\n",
       "      <td>Room Admin</td>\n",
       "      <td>08-12-2018 09:24</td>\n",
       "      <td>29</td>\n",
       "      <td>In</td>\n",
       "    </tr>\n",
       "    <tr>\n",
       "      <th>14</th>\n",
       "      <td>__export__.temp_log_196095_788b2c27</td>\n",
       "      <td>Room Admin</td>\n",
       "      <td>08-12-2018 09:22</td>\n",
       "      <td>29</td>\n",
       "      <td>In</td>\n",
       "    </tr>\n",
       "    <tr>\n",
       "      <th>15</th>\n",
       "      <td>__export__.temp_log_196096_eafb59b6</td>\n",
       "      <td>Room Admin</td>\n",
       "      <td>08-12-2018 09:22</td>\n",
       "      <td>29</td>\n",
       "      <td>In</td>\n",
       "    </tr>\n",
       "    <tr>\n",
       "      <th>16</th>\n",
       "      <td>__export__.temp_log_196094_38501388</td>\n",
       "      <td>Room Admin</td>\n",
       "      <td>08-12-2018 09:21</td>\n",
       "      <td>41</td>\n",
       "      <td>Out</td>\n",
       "    </tr>\n",
       "    <tr>\n",
       "      <th>17</th>\n",
       "      <td>__export__.temp_log_196093_f0b3b649</td>\n",
       "      <td>Room Admin</td>\n",
       "      <td>08-12-2018 09:21</td>\n",
       "      <td>41</td>\n",
       "      <td>Out</td>\n",
       "    </tr>\n",
       "    <tr>\n",
       "      <th>18</th>\n",
       "      <td>__export__.temp_log_196090_b5f7ca9c</td>\n",
       "      <td>Room Admin</td>\n",
       "      <td>08-12-2018 09:20</td>\n",
       "      <td>29</td>\n",
       "      <td>In</td>\n",
       "    </tr>\n",
       "    <tr>\n",
       "      <th>19</th>\n",
       "      <td>__export__.temp_log_196087_e04d9477</td>\n",
       "      <td>Room Admin</td>\n",
       "      <td>08-12-2018 09:20</td>\n",
       "      <td>29</td>\n",
       "      <td>In</td>\n",
       "    </tr>\n",
       "  </tbody>\n",
       "</table>\n",
       "</div>"
      ],
      "text/plain": [
       "                                     id  room_id/id        noted_date  temp  \\\n",
       "0   __export__.temp_log_196134_bd201015  Room Admin  08-12-2018 09:30    29   \n",
       "1   __export__.temp_log_196131_7bca51bc  Room Admin  08-12-2018 09:30    29   \n",
       "2   __export__.temp_log_196127_522915e3  Room Admin  08-12-2018 09:29    41   \n",
       "3   __export__.temp_log_196128_be0919cf  Room Admin  08-12-2018 09:29    41   \n",
       "4   __export__.temp_log_196126_d30b72fb  Room Admin  08-12-2018 09:29    31   \n",
       "5   __export__.temp_log_196125_b0fa0b41  Room Admin  08-12-2018 09:29    31   \n",
       "6   __export__.temp_log_196121_01544d45  Room Admin  08-12-2018 09:28    29   \n",
       "7   __export__.temp_log_196122_f8b80a9f  Room Admin  08-12-2018 09:28    29   \n",
       "8   __export__.temp_log_196111_6b7a0848  Room Admin  08-12-2018 09:26    29   \n",
       "9   __export__.temp_log_196112_e134aebd  Room Admin  08-12-2018 09:26    29   \n",
       "10  __export__.temp_log_196108_4a983c7e  Room Admin  08-12-2018 09:25    42   \n",
       "11  __export__.temp_log_196108_4a983c7e  Room Admin  08-12-2018 09:25    42   \n",
       "12  __export__.temp_log_196101_d5ec7633  Room Admin  08-12-2018 09:24    29   \n",
       "13  __export__.temp_log_196099_3b8ef67b  Room Admin  08-12-2018 09:24    29   \n",
       "14  __export__.temp_log_196095_788b2c27  Room Admin  08-12-2018 09:22    29   \n",
       "15  __export__.temp_log_196096_eafb59b6  Room Admin  08-12-2018 09:22    29   \n",
       "16  __export__.temp_log_196094_38501388  Room Admin  08-12-2018 09:21    41   \n",
       "17  __export__.temp_log_196093_f0b3b649  Room Admin  08-12-2018 09:21    41   \n",
       "18  __export__.temp_log_196090_b5f7ca9c  Room Admin  08-12-2018 09:20    29   \n",
       "19  __export__.temp_log_196087_e04d9477  Room Admin  08-12-2018 09:20    29   \n",
       "\n",
       "   out/in  \n",
       "0      In  \n",
       "1      In  \n",
       "2     Out  \n",
       "3     Out  \n",
       "4      In  \n",
       "5      In  \n",
       "6      In  \n",
       "7      In  \n",
       "8      In  \n",
       "9      In  \n",
       "10    Out  \n",
       "11    Out  \n",
       "12     In  \n",
       "13     In  \n",
       "14     In  \n",
       "15     In  \n",
       "16    Out  \n",
       "17    Out  \n",
       "18     In  \n",
       "19     In  "
      ]
     },
     "execution_count": 4,
     "metadata": {},
     "output_type": "execute_result"
    }
   ],
   "source": [
    "data = pd.read_csv('IOT-temp 1.csv')\n",
    "data.head(20)"
   ]
  },
  {
   "cell_type": "code",
   "execution_count": 5,
   "id": "22494473",
   "metadata": {},
   "outputs": [
    {
     "name": "stdout",
     "output_type": "stream",
     "text": [
      "<class 'pandas.core.frame.DataFrame'>\n",
      "RangeIndex: 97606 entries, 0 to 97605\n",
      "Data columns (total 5 columns):\n",
      " #   Column      Non-Null Count  Dtype \n",
      "---  ------      --------------  ----- \n",
      " 0   id          97606 non-null  object\n",
      " 1   room_id/id  97606 non-null  object\n",
      " 2   noted_date  97606 non-null  object\n",
      " 3   temp        97606 non-null  int64 \n",
      " 4   out/in      97606 non-null  object\n",
      "dtypes: int64(1), object(4)\n",
      "memory usage: 3.7+ MB\n"
     ]
    }
   ],
   "source": [
    "data.info()"
   ]
  },
  {
   "cell_type": "code",
   "execution_count": 6,
   "id": "3e66e589",
   "metadata": {},
   "outputs": [
    {
     "data": {
      "text/plain": [
       "(97606, 5)"
      ]
     },
     "execution_count": 6,
     "metadata": {},
     "output_type": "execute_result"
    }
   ],
   "source": [
    "data.shape"
   ]
  },
  {
   "cell_type": "code",
   "execution_count": 7,
   "id": "d1357323",
   "metadata": {},
   "outputs": [
    {
     "data": {
      "text/html": [
       "<div>\n",
       "<style scoped>\n",
       "    .dataframe tbody tr th:only-of-type {\n",
       "        vertical-align: middle;\n",
       "    }\n",
       "\n",
       "    .dataframe tbody tr th {\n",
       "        vertical-align: top;\n",
       "    }\n",
       "\n",
       "    .dataframe thead th {\n",
       "        text-align: right;\n",
       "    }\n",
       "</style>\n",
       "<table border=\"1\" class=\"dataframe\">\n",
       "  <thead>\n",
       "    <tr style=\"text-align: right;\">\n",
       "      <th></th>\n",
       "      <th>temp</th>\n",
       "    </tr>\n",
       "  </thead>\n",
       "  <tbody>\n",
       "    <tr>\n",
       "      <th>count</th>\n",
       "      <td>97606.000000</td>\n",
       "    </tr>\n",
       "    <tr>\n",
       "      <th>mean</th>\n",
       "      <td>35.053931</td>\n",
       "    </tr>\n",
       "    <tr>\n",
       "      <th>std</th>\n",
       "      <td>5.699825</td>\n",
       "    </tr>\n",
       "    <tr>\n",
       "      <th>min</th>\n",
       "      <td>21.000000</td>\n",
       "    </tr>\n",
       "    <tr>\n",
       "      <th>25%</th>\n",
       "      <td>30.000000</td>\n",
       "    </tr>\n",
       "    <tr>\n",
       "      <th>50%</th>\n",
       "      <td>35.000000</td>\n",
       "    </tr>\n",
       "    <tr>\n",
       "      <th>75%</th>\n",
       "      <td>40.000000</td>\n",
       "    </tr>\n",
       "    <tr>\n",
       "      <th>max</th>\n",
       "      <td>51.000000</td>\n",
       "    </tr>\n",
       "  </tbody>\n",
       "</table>\n",
       "</div>"
      ],
      "text/plain": [
       "               temp\n",
       "count  97606.000000\n",
       "mean      35.053931\n",
       "std        5.699825\n",
       "min       21.000000\n",
       "25%       30.000000\n",
       "50%       35.000000\n",
       "75%       40.000000\n",
       "max       51.000000"
      ]
     },
     "execution_count": 7,
     "metadata": {},
     "output_type": "execute_result"
    }
   ],
   "source": [
    "data.describe()"
   ]
  },
  {
   "cell_type": "markdown",
   "id": "80609067",
   "metadata": {},
   "source": [
    "### 2. Check the attributes data types and Drop out unwanted columns like id , room_id"
   ]
  },
  {
   "cell_type": "code",
   "execution_count": 8,
   "id": "020fe6b3",
   "metadata": {},
   "outputs": [
    {
     "data": {
      "text/plain": [
       "id            object\n",
       "room_id/id    object\n",
       "noted_date    object\n",
       "temp           int64\n",
       "out/in        object\n",
       "dtype: object"
      ]
     },
     "execution_count": 8,
     "metadata": {},
     "output_type": "execute_result"
    }
   ],
   "source": [
    "data.dtypes"
   ]
  },
  {
   "cell_type": "code",
   "execution_count": 9,
   "id": "6c818f78",
   "metadata": {},
   "outputs": [
    {
     "data": {
      "text/html": [
       "<div>\n",
       "<style scoped>\n",
       "    .dataframe tbody tr th:only-of-type {\n",
       "        vertical-align: middle;\n",
       "    }\n",
       "\n",
       "    .dataframe tbody tr th {\n",
       "        vertical-align: top;\n",
       "    }\n",
       "\n",
       "    .dataframe thead th {\n",
       "        text-align: right;\n",
       "    }\n",
       "</style>\n",
       "<table border=\"1\" class=\"dataframe\">\n",
       "  <thead>\n",
       "    <tr style=\"text-align: right;\">\n",
       "      <th></th>\n",
       "      <th>noted_date</th>\n",
       "      <th>temp</th>\n",
       "      <th>out/in</th>\n",
       "    </tr>\n",
       "  </thead>\n",
       "  <tbody>\n",
       "    <tr>\n",
       "      <th>0</th>\n",
       "      <td>08-12-2018 09:30</td>\n",
       "      <td>29</td>\n",
       "      <td>In</td>\n",
       "    </tr>\n",
       "    <tr>\n",
       "      <th>1</th>\n",
       "      <td>08-12-2018 09:30</td>\n",
       "      <td>29</td>\n",
       "      <td>In</td>\n",
       "    </tr>\n",
       "    <tr>\n",
       "      <th>2</th>\n",
       "      <td>08-12-2018 09:29</td>\n",
       "      <td>41</td>\n",
       "      <td>Out</td>\n",
       "    </tr>\n",
       "    <tr>\n",
       "      <th>3</th>\n",
       "      <td>08-12-2018 09:29</td>\n",
       "      <td>41</td>\n",
       "      <td>Out</td>\n",
       "    </tr>\n",
       "    <tr>\n",
       "      <th>4</th>\n",
       "      <td>08-12-2018 09:29</td>\n",
       "      <td>31</td>\n",
       "      <td>In</td>\n",
       "    </tr>\n",
       "    <tr>\n",
       "      <th>...</th>\n",
       "      <td>...</td>\n",
       "      <td>...</td>\n",
       "      <td>...</td>\n",
       "    </tr>\n",
       "    <tr>\n",
       "      <th>97601</th>\n",
       "      <td>28-07-2018 07:07</td>\n",
       "      <td>31</td>\n",
       "      <td>In</td>\n",
       "    </tr>\n",
       "    <tr>\n",
       "      <th>97602</th>\n",
       "      <td>28-07-2018 07:07</td>\n",
       "      <td>31</td>\n",
       "      <td>In</td>\n",
       "    </tr>\n",
       "    <tr>\n",
       "      <th>97603</th>\n",
       "      <td>28-07-2018 07:06</td>\n",
       "      <td>31</td>\n",
       "      <td>In</td>\n",
       "    </tr>\n",
       "    <tr>\n",
       "      <th>97604</th>\n",
       "      <td>28-07-2018 07:06</td>\n",
       "      <td>31</td>\n",
       "      <td>In</td>\n",
       "    </tr>\n",
       "    <tr>\n",
       "      <th>97605</th>\n",
       "      <td>28-07-2018 07:06</td>\n",
       "      <td>31</td>\n",
       "      <td>In</td>\n",
       "    </tr>\n",
       "  </tbody>\n",
       "</table>\n",
       "<p>97606 rows × 3 columns</p>\n",
       "</div>"
      ],
      "text/plain": [
       "             noted_date  temp out/in\n",
       "0      08-12-2018 09:30    29     In\n",
       "1      08-12-2018 09:30    29     In\n",
       "2      08-12-2018 09:29    41    Out\n",
       "3      08-12-2018 09:29    41    Out\n",
       "4      08-12-2018 09:29    31     In\n",
       "...                 ...   ...    ...\n",
       "97601  28-07-2018 07:07    31     In\n",
       "97602  28-07-2018 07:07    31     In\n",
       "97603  28-07-2018 07:06    31     In\n",
       "97604  28-07-2018 07:06    31     In\n",
       "97605  28-07-2018 07:06    31     In\n",
       "\n",
       "[97606 rows x 3 columns]"
      ]
     },
     "execution_count": 9,
     "metadata": {},
     "output_type": "execute_result"
    }
   ],
   "source": [
    "data = data.drop(['id', 'room_id/id'], axis = 1)\n",
    "data"
   ]
  },
  {
   "cell_type": "markdown",
   "id": "fd893b64",
   "metadata": {},
   "source": [
    "### 3. Check for missing values in any of the columns."
   ]
  },
  {
   "cell_type": "code",
   "execution_count": 9,
   "id": "f7eda882",
   "metadata": {},
   "outputs": [
    {
     "data": {
      "text/plain": [
       "noted_date    0\n",
       "temp          0\n",
       "out/in        0\n",
       "dtype: int64"
      ]
     },
     "execution_count": 9,
     "metadata": {},
     "output_type": "execute_result"
    }
   ],
   "source": [
    "data.isnull().sum()"
   ]
  },
  {
   "cell_type": "markdown",
   "id": "d2a5b7e2",
   "metadata": {},
   "source": [
    "No null/missing values"
   ]
  },
  {
   "cell_type": "markdown",
   "id": "169914ac",
   "metadata": {},
   "source": [
    "### 4. Separate out date and time values of noted_date column."
   ]
  },
  {
   "cell_type": "code",
   "execution_count": 10,
   "id": "7d9da46e",
   "metadata": {},
   "outputs": [
    {
     "data": {
      "text/html": [
       "<div>\n",
       "<style scoped>\n",
       "    .dataframe tbody tr th:only-of-type {\n",
       "        vertical-align: middle;\n",
       "    }\n",
       "\n",
       "    .dataframe tbody tr th {\n",
       "        vertical-align: top;\n",
       "    }\n",
       "\n",
       "    .dataframe thead th {\n",
       "        text-align: right;\n",
       "    }\n",
       "</style>\n",
       "<table border=\"1\" class=\"dataframe\">\n",
       "  <thead>\n",
       "    <tr style=\"text-align: right;\">\n",
       "      <th></th>\n",
       "      <th>noted_date</th>\n",
       "      <th>temp</th>\n",
       "      <th>out/in</th>\n",
       "      <th>date</th>\n",
       "      <th>time</th>\n",
       "    </tr>\n",
       "  </thead>\n",
       "  <tbody>\n",
       "    <tr>\n",
       "      <th>0</th>\n",
       "      <td>2018-08-12 09:30:00</td>\n",
       "      <td>29</td>\n",
       "      <td>In</td>\n",
       "      <td>2018-08-12</td>\n",
       "      <td>09:30:00</td>\n",
       "    </tr>\n",
       "    <tr>\n",
       "      <th>1</th>\n",
       "      <td>2018-08-12 09:30:00</td>\n",
       "      <td>29</td>\n",
       "      <td>In</td>\n",
       "      <td>2018-08-12</td>\n",
       "      <td>09:30:00</td>\n",
       "    </tr>\n",
       "    <tr>\n",
       "      <th>2</th>\n",
       "      <td>2018-08-12 09:29:00</td>\n",
       "      <td>41</td>\n",
       "      <td>Out</td>\n",
       "      <td>2018-08-12</td>\n",
       "      <td>09:29:00</td>\n",
       "    </tr>\n",
       "    <tr>\n",
       "      <th>3</th>\n",
       "      <td>2018-08-12 09:29:00</td>\n",
       "      <td>41</td>\n",
       "      <td>Out</td>\n",
       "      <td>2018-08-12</td>\n",
       "      <td>09:29:00</td>\n",
       "    </tr>\n",
       "    <tr>\n",
       "      <th>4</th>\n",
       "      <td>2018-08-12 09:29:00</td>\n",
       "      <td>31</td>\n",
       "      <td>In</td>\n",
       "      <td>2018-08-12</td>\n",
       "      <td>09:29:00</td>\n",
       "    </tr>\n",
       "    <tr>\n",
       "      <th>...</th>\n",
       "      <td>...</td>\n",
       "      <td>...</td>\n",
       "      <td>...</td>\n",
       "      <td>...</td>\n",
       "      <td>...</td>\n",
       "    </tr>\n",
       "    <tr>\n",
       "      <th>97601</th>\n",
       "      <td>2018-07-28 07:07:00</td>\n",
       "      <td>31</td>\n",
       "      <td>In</td>\n",
       "      <td>2018-07-28</td>\n",
       "      <td>07:07:00</td>\n",
       "    </tr>\n",
       "    <tr>\n",
       "      <th>97602</th>\n",
       "      <td>2018-07-28 07:07:00</td>\n",
       "      <td>31</td>\n",
       "      <td>In</td>\n",
       "      <td>2018-07-28</td>\n",
       "      <td>07:07:00</td>\n",
       "    </tr>\n",
       "    <tr>\n",
       "      <th>97603</th>\n",
       "      <td>2018-07-28 07:06:00</td>\n",
       "      <td>31</td>\n",
       "      <td>In</td>\n",
       "      <td>2018-07-28</td>\n",
       "      <td>07:06:00</td>\n",
       "    </tr>\n",
       "    <tr>\n",
       "      <th>97604</th>\n",
       "      <td>2018-07-28 07:06:00</td>\n",
       "      <td>31</td>\n",
       "      <td>In</td>\n",
       "      <td>2018-07-28</td>\n",
       "      <td>07:06:00</td>\n",
       "    </tr>\n",
       "    <tr>\n",
       "      <th>97605</th>\n",
       "      <td>2018-07-28 07:06:00</td>\n",
       "      <td>31</td>\n",
       "      <td>In</td>\n",
       "      <td>2018-07-28</td>\n",
       "      <td>07:06:00</td>\n",
       "    </tr>\n",
       "  </tbody>\n",
       "</table>\n",
       "<p>97606 rows × 5 columns</p>\n",
       "</div>"
      ],
      "text/plain": [
       "               noted_date  temp out/in        date      time\n",
       "0     2018-08-12 09:30:00    29     In  2018-08-12  09:30:00\n",
       "1     2018-08-12 09:30:00    29     In  2018-08-12  09:30:00\n",
       "2     2018-08-12 09:29:00    41    Out  2018-08-12  09:29:00\n",
       "3     2018-08-12 09:29:00    41    Out  2018-08-12  09:29:00\n",
       "4     2018-08-12 09:29:00    31     In  2018-08-12  09:29:00\n",
       "...                   ...   ...    ...         ...       ...\n",
       "97601 2018-07-28 07:07:00    31     In  2018-07-28  07:07:00\n",
       "97602 2018-07-28 07:07:00    31     In  2018-07-28  07:07:00\n",
       "97603 2018-07-28 07:06:00    31     In  2018-07-28  07:06:00\n",
       "97604 2018-07-28 07:06:00    31     In  2018-07-28  07:06:00\n",
       "97605 2018-07-28 07:06:00    31     In  2018-07-28  07:06:00\n",
       "\n",
       "[97606 rows x 5 columns]"
      ]
     },
     "execution_count": 10,
     "metadata": {},
     "output_type": "execute_result"
    }
   ],
   "source": [
    "data['noted_date'] = pd.to_datetime(data['noted_date'])\n",
    "\n",
    "data['date'] = data['noted_date'].dt.date\n",
    "data['time'] = data['noted_date'].dt.time\n",
    "\n",
    "data"
   ]
  },
  {
   "cell_type": "markdown",
   "id": "1546d9cd",
   "metadata": {},
   "source": [
    "### 5. Further separate date,month,year from date and store as separate columns. Display the complete data with new columns."
   ]
  },
  {
   "cell_type": "code",
   "execution_count": 11,
   "id": "5ca18005",
   "metadata": {},
   "outputs": [
    {
     "data": {
      "text/html": [
       "<div>\n",
       "<style scoped>\n",
       "    .dataframe tbody tr th:only-of-type {\n",
       "        vertical-align: middle;\n",
       "    }\n",
       "\n",
       "    .dataframe tbody tr th {\n",
       "        vertical-align: top;\n",
       "    }\n",
       "\n",
       "    .dataframe thead th {\n",
       "        text-align: right;\n",
       "    }\n",
       "</style>\n",
       "<table border=\"1\" class=\"dataframe\">\n",
       "  <thead>\n",
       "    <tr style=\"text-align: right;\">\n",
       "      <th></th>\n",
       "      <th>noted_date</th>\n",
       "      <th>temp</th>\n",
       "      <th>out/in</th>\n",
       "      <th>date</th>\n",
       "      <th>time</th>\n",
       "      <th>year</th>\n",
       "      <th>month</th>\n",
       "      <th>day</th>\n",
       "    </tr>\n",
       "  </thead>\n",
       "  <tbody>\n",
       "    <tr>\n",
       "      <th>0</th>\n",
       "      <td>2018-08-12 09:30:00</td>\n",
       "      <td>29</td>\n",
       "      <td>In</td>\n",
       "      <td>2018-08-12</td>\n",
       "      <td>09:30:00</td>\n",
       "      <td>2018</td>\n",
       "      <td>8</td>\n",
       "      <td>12</td>\n",
       "    </tr>\n",
       "    <tr>\n",
       "      <th>1</th>\n",
       "      <td>2018-08-12 09:30:00</td>\n",
       "      <td>29</td>\n",
       "      <td>In</td>\n",
       "      <td>2018-08-12</td>\n",
       "      <td>09:30:00</td>\n",
       "      <td>2018</td>\n",
       "      <td>8</td>\n",
       "      <td>12</td>\n",
       "    </tr>\n",
       "    <tr>\n",
       "      <th>2</th>\n",
       "      <td>2018-08-12 09:29:00</td>\n",
       "      <td>41</td>\n",
       "      <td>Out</td>\n",
       "      <td>2018-08-12</td>\n",
       "      <td>09:29:00</td>\n",
       "      <td>2018</td>\n",
       "      <td>8</td>\n",
       "      <td>12</td>\n",
       "    </tr>\n",
       "    <tr>\n",
       "      <th>3</th>\n",
       "      <td>2018-08-12 09:29:00</td>\n",
       "      <td>41</td>\n",
       "      <td>Out</td>\n",
       "      <td>2018-08-12</td>\n",
       "      <td>09:29:00</td>\n",
       "      <td>2018</td>\n",
       "      <td>8</td>\n",
       "      <td>12</td>\n",
       "    </tr>\n",
       "    <tr>\n",
       "      <th>4</th>\n",
       "      <td>2018-08-12 09:29:00</td>\n",
       "      <td>31</td>\n",
       "      <td>In</td>\n",
       "      <td>2018-08-12</td>\n",
       "      <td>09:29:00</td>\n",
       "      <td>2018</td>\n",
       "      <td>8</td>\n",
       "      <td>12</td>\n",
       "    </tr>\n",
       "    <tr>\n",
       "      <th>...</th>\n",
       "      <td>...</td>\n",
       "      <td>...</td>\n",
       "      <td>...</td>\n",
       "      <td>...</td>\n",
       "      <td>...</td>\n",
       "      <td>...</td>\n",
       "      <td>...</td>\n",
       "      <td>...</td>\n",
       "    </tr>\n",
       "    <tr>\n",
       "      <th>97601</th>\n",
       "      <td>2018-07-28 07:07:00</td>\n",
       "      <td>31</td>\n",
       "      <td>In</td>\n",
       "      <td>2018-07-28</td>\n",
       "      <td>07:07:00</td>\n",
       "      <td>2018</td>\n",
       "      <td>7</td>\n",
       "      <td>28</td>\n",
       "    </tr>\n",
       "    <tr>\n",
       "      <th>97602</th>\n",
       "      <td>2018-07-28 07:07:00</td>\n",
       "      <td>31</td>\n",
       "      <td>In</td>\n",
       "      <td>2018-07-28</td>\n",
       "      <td>07:07:00</td>\n",
       "      <td>2018</td>\n",
       "      <td>7</td>\n",
       "      <td>28</td>\n",
       "    </tr>\n",
       "    <tr>\n",
       "      <th>97603</th>\n",
       "      <td>2018-07-28 07:06:00</td>\n",
       "      <td>31</td>\n",
       "      <td>In</td>\n",
       "      <td>2018-07-28</td>\n",
       "      <td>07:06:00</td>\n",
       "      <td>2018</td>\n",
       "      <td>7</td>\n",
       "      <td>28</td>\n",
       "    </tr>\n",
       "    <tr>\n",
       "      <th>97604</th>\n",
       "      <td>2018-07-28 07:06:00</td>\n",
       "      <td>31</td>\n",
       "      <td>In</td>\n",
       "      <td>2018-07-28</td>\n",
       "      <td>07:06:00</td>\n",
       "      <td>2018</td>\n",
       "      <td>7</td>\n",
       "      <td>28</td>\n",
       "    </tr>\n",
       "    <tr>\n",
       "      <th>97605</th>\n",
       "      <td>2018-07-28 07:06:00</td>\n",
       "      <td>31</td>\n",
       "      <td>In</td>\n",
       "      <td>2018-07-28</td>\n",
       "      <td>07:06:00</td>\n",
       "      <td>2018</td>\n",
       "      <td>7</td>\n",
       "      <td>28</td>\n",
       "    </tr>\n",
       "  </tbody>\n",
       "</table>\n",
       "<p>97606 rows × 8 columns</p>\n",
       "</div>"
      ],
      "text/plain": [
       "               noted_date  temp out/in       date      time  year  month  day\n",
       "0     2018-08-12 09:30:00    29     In 2018-08-12  09:30:00  2018      8   12\n",
       "1     2018-08-12 09:30:00    29     In 2018-08-12  09:30:00  2018      8   12\n",
       "2     2018-08-12 09:29:00    41    Out 2018-08-12  09:29:00  2018      8   12\n",
       "3     2018-08-12 09:29:00    41    Out 2018-08-12  09:29:00  2018      8   12\n",
       "4     2018-08-12 09:29:00    31     In 2018-08-12  09:29:00  2018      8   12\n",
       "...                   ...   ...    ...        ...       ...   ...    ...  ...\n",
       "97601 2018-07-28 07:07:00    31     In 2018-07-28  07:07:00  2018      7   28\n",
       "97602 2018-07-28 07:07:00    31     In 2018-07-28  07:07:00  2018      7   28\n",
       "97603 2018-07-28 07:06:00    31     In 2018-07-28  07:06:00  2018      7   28\n",
       "97604 2018-07-28 07:06:00    31     In 2018-07-28  07:06:00  2018      7   28\n",
       "97605 2018-07-28 07:06:00    31     In 2018-07-28  07:06:00  2018      7   28\n",
       "\n",
       "[97606 rows x 8 columns]"
      ]
     },
     "execution_count": 11,
     "metadata": {},
     "output_type": "execute_result"
    }
   ],
   "source": [
    "data['date'] = pd.to_datetime(data['date'])\n",
    "\n",
    "data['year'] = data['date'].dt.year\n",
    "data['month'] = data['date'].dt.month\n",
    "data['day'] = data['date'].dt.day\n",
    "\n",
    "data"
   ]
  },
  {
   "cell_type": "markdown",
   "id": "8d0adea5",
   "metadata": {},
   "source": [
    "### 6. Prepare boxplot of temperature."
   ]
  },
  {
   "cell_type": "markdown",
   "id": "af1286ad",
   "metadata": {},
   "source": [
    "#### Converting \"in\" to 1 and \"out\" to 0"
   ]
  },
  {
   "cell_type": "code",
   "execution_count": 12,
   "id": "bb983b11",
   "metadata": {},
   "outputs": [
    {
     "data": {
      "text/html": [
       "<div>\n",
       "<style scoped>\n",
       "    .dataframe tbody tr th:only-of-type {\n",
       "        vertical-align: middle;\n",
       "    }\n",
       "\n",
       "    .dataframe tbody tr th {\n",
       "        vertical-align: top;\n",
       "    }\n",
       "\n",
       "    .dataframe thead th {\n",
       "        text-align: right;\n",
       "    }\n",
       "</style>\n",
       "<table border=\"1\" class=\"dataframe\">\n",
       "  <thead>\n",
       "    <tr style=\"text-align: right;\">\n",
       "      <th></th>\n",
       "      <th>noted_date</th>\n",
       "      <th>temp</th>\n",
       "      <th>out/in</th>\n",
       "      <th>date</th>\n",
       "      <th>time</th>\n",
       "      <th>year</th>\n",
       "      <th>month</th>\n",
       "      <th>day</th>\n",
       "    </tr>\n",
       "  </thead>\n",
       "  <tbody>\n",
       "    <tr>\n",
       "      <th>0</th>\n",
       "      <td>2018-08-12 09:30:00</td>\n",
       "      <td>29</td>\n",
       "      <td>0</td>\n",
       "      <td>2018-08-12</td>\n",
       "      <td>09:30:00</td>\n",
       "      <td>2018</td>\n",
       "      <td>8</td>\n",
       "      <td>12</td>\n",
       "    </tr>\n",
       "    <tr>\n",
       "      <th>1</th>\n",
       "      <td>2018-08-12 09:30:00</td>\n",
       "      <td>29</td>\n",
       "      <td>0</td>\n",
       "      <td>2018-08-12</td>\n",
       "      <td>09:30:00</td>\n",
       "      <td>2018</td>\n",
       "      <td>8</td>\n",
       "      <td>12</td>\n",
       "    </tr>\n",
       "    <tr>\n",
       "      <th>2</th>\n",
       "      <td>2018-08-12 09:29:00</td>\n",
       "      <td>41</td>\n",
       "      <td>1</td>\n",
       "      <td>2018-08-12</td>\n",
       "      <td>09:29:00</td>\n",
       "      <td>2018</td>\n",
       "      <td>8</td>\n",
       "      <td>12</td>\n",
       "    </tr>\n",
       "    <tr>\n",
       "      <th>3</th>\n",
       "      <td>2018-08-12 09:29:00</td>\n",
       "      <td>41</td>\n",
       "      <td>1</td>\n",
       "      <td>2018-08-12</td>\n",
       "      <td>09:29:00</td>\n",
       "      <td>2018</td>\n",
       "      <td>8</td>\n",
       "      <td>12</td>\n",
       "    </tr>\n",
       "    <tr>\n",
       "      <th>4</th>\n",
       "      <td>2018-08-12 09:29:00</td>\n",
       "      <td>31</td>\n",
       "      <td>0</td>\n",
       "      <td>2018-08-12</td>\n",
       "      <td>09:29:00</td>\n",
       "      <td>2018</td>\n",
       "      <td>8</td>\n",
       "      <td>12</td>\n",
       "    </tr>\n",
       "    <tr>\n",
       "      <th>...</th>\n",
       "      <td>...</td>\n",
       "      <td>...</td>\n",
       "      <td>...</td>\n",
       "      <td>...</td>\n",
       "      <td>...</td>\n",
       "      <td>...</td>\n",
       "      <td>...</td>\n",
       "      <td>...</td>\n",
       "    </tr>\n",
       "    <tr>\n",
       "      <th>97601</th>\n",
       "      <td>2018-07-28 07:07:00</td>\n",
       "      <td>31</td>\n",
       "      <td>0</td>\n",
       "      <td>2018-07-28</td>\n",
       "      <td>07:07:00</td>\n",
       "      <td>2018</td>\n",
       "      <td>7</td>\n",
       "      <td>28</td>\n",
       "    </tr>\n",
       "    <tr>\n",
       "      <th>97602</th>\n",
       "      <td>2018-07-28 07:07:00</td>\n",
       "      <td>31</td>\n",
       "      <td>0</td>\n",
       "      <td>2018-07-28</td>\n",
       "      <td>07:07:00</td>\n",
       "      <td>2018</td>\n",
       "      <td>7</td>\n",
       "      <td>28</td>\n",
       "    </tr>\n",
       "    <tr>\n",
       "      <th>97603</th>\n",
       "      <td>2018-07-28 07:06:00</td>\n",
       "      <td>31</td>\n",
       "      <td>0</td>\n",
       "      <td>2018-07-28</td>\n",
       "      <td>07:06:00</td>\n",
       "      <td>2018</td>\n",
       "      <td>7</td>\n",
       "      <td>28</td>\n",
       "    </tr>\n",
       "    <tr>\n",
       "      <th>97604</th>\n",
       "      <td>2018-07-28 07:06:00</td>\n",
       "      <td>31</td>\n",
       "      <td>0</td>\n",
       "      <td>2018-07-28</td>\n",
       "      <td>07:06:00</td>\n",
       "      <td>2018</td>\n",
       "      <td>7</td>\n",
       "      <td>28</td>\n",
       "    </tr>\n",
       "    <tr>\n",
       "      <th>97605</th>\n",
       "      <td>2018-07-28 07:06:00</td>\n",
       "      <td>31</td>\n",
       "      <td>0</td>\n",
       "      <td>2018-07-28</td>\n",
       "      <td>07:06:00</td>\n",
       "      <td>2018</td>\n",
       "      <td>7</td>\n",
       "      <td>28</td>\n",
       "    </tr>\n",
       "  </tbody>\n",
       "</table>\n",
       "<p>97606 rows × 8 columns</p>\n",
       "</div>"
      ],
      "text/plain": [
       "               noted_date  temp  out/in       date      time  year  month  day\n",
       "0     2018-08-12 09:30:00    29       0 2018-08-12  09:30:00  2018      8   12\n",
       "1     2018-08-12 09:30:00    29       0 2018-08-12  09:30:00  2018      8   12\n",
       "2     2018-08-12 09:29:00    41       1 2018-08-12  09:29:00  2018      8   12\n",
       "3     2018-08-12 09:29:00    41       1 2018-08-12  09:29:00  2018      8   12\n",
       "4     2018-08-12 09:29:00    31       0 2018-08-12  09:29:00  2018      8   12\n",
       "...                   ...   ...     ...        ...       ...   ...    ...  ...\n",
       "97601 2018-07-28 07:07:00    31       0 2018-07-28  07:07:00  2018      7   28\n",
       "97602 2018-07-28 07:07:00    31       0 2018-07-28  07:07:00  2018      7   28\n",
       "97603 2018-07-28 07:06:00    31       0 2018-07-28  07:06:00  2018      7   28\n",
       "97604 2018-07-28 07:06:00    31       0 2018-07-28  07:06:00  2018      7   28\n",
       "97605 2018-07-28 07:06:00    31       0 2018-07-28  07:06:00  2018      7   28\n",
       "\n",
       "[97606 rows x 8 columns]"
      ]
     },
     "execution_count": 12,
     "metadata": {},
     "output_type": "execute_result"
    }
   ],
   "source": [
    "data.replace('In', 0, inplace = True)\n",
    "data.replace('Out', 1, inplace = True)\n",
    "\n",
    "data"
   ]
  },
  {
   "cell_type": "code",
   "execution_count": 13,
   "id": "a3189774",
   "metadata": {},
   "outputs": [],
   "source": [
    "data_in = data[data[\"out/in\"] == 0]\n",
    "data_out = data[data[\"out/in\"] == 1]"
   ]
  },
  {
   "cell_type": "markdown",
   "id": "c1b0c51b",
   "metadata": {},
   "source": [
    "#### Prepare box plot of Inside and Outside"
   ]
  },
  {
   "cell_type": "code",
   "execution_count": 31,
   "id": "92f20844",
   "metadata": {},
   "outputs": [
    {
     "data": {
      "text/plain": [
       "<AxesSubplot:xlabel='out/in', ylabel='count'>"
      ]
     },
     "execution_count": 31,
     "metadata": {},
     "output_type": "execute_result"
    },
    {
     "data": {
      "image/png": "[encoded data removed]",
      "text/plain": [
       "<Figure size 432x288 with 1 Axes>"
      ]
     },
     "metadata": {
      "needs_background": "light"
     },
     "output_type": "display_data"
    }
   ],
   "source": [
    "sns.countplot(data['out/in'])"
   ]
  },
  {
   "cell_type": "markdown",
   "id": "ed42caf9",
   "metadata": {},
   "source": [
    "Most of the data that we have are of temperatures recorded outside."
   ]
  },
  {
   "cell_type": "markdown",
   "id": "fef6c10f",
   "metadata": {},
   "source": [
    "#### Inside temperature"
   ]
  },
  {
   "cell_type": "code",
   "execution_count": 22,
   "id": "0590356a",
   "metadata": {},
   "outputs": [
    {
     "data": {
      "image/png": "[encoded data removed]",
      "text/plain": [
       "<Figure size 432x288 with 1 Axes>"
      ]
     },
     "metadata": {
      "needs_background": "light"
     },
     "output_type": "display_data"
    }
   ],
   "source": [
    "sns.boxplot(data_in['temp'])\n",
    "plt.show()"
   ]
  },
  {
   "cell_type": "markdown",
   "id": "1639f33c",
   "metadata": {},
   "source": [
    "In boxplot of inside temperature there are three ouliers above the maximum and four outliers below the minimum."
   ]
  },
  {
   "cell_type": "markdown",
   "id": "ed86e335",
   "metadata": {},
   "source": [
    "#### Outside temperature"
   ]
  },
  {
   "cell_type": "code",
   "execution_count": 23,
   "id": "a606c709",
   "metadata": {},
   "outputs": [
    {
     "data": {
      "image/png": "[encoded data removed]",
      "text/plain": [
       "<Figure size 432x288 with 1 Axes>"
      ]
     },
     "metadata": {
      "needs_background": "light"
     },
     "output_type": "display_data"
    }
   ],
   "source": [
    "sns.boxplot(data_out['temp'])\n",
    "plt.show()"
   ]
  },
  {
   "cell_type": "markdown",
   "id": "ebe4f15f",
   "metadata": {},
   "source": [
    "In boxplot of outside temperature there are no outliers"
   ]
  },
  {
   "cell_type": "markdown",
   "id": "f210f9f4",
   "metadata": {},
   "source": [
    "### 7. Prepare barplot for in/out vs temperature."
   ]
  },
  {
   "cell_type": "code",
   "execution_count": 24,
   "id": "dda8e6f2",
   "metadata": {},
   "outputs": [
    {
     "data": {
      "image/png": "[encoded data removed]",
      "text/plain": [
       "<Figure size 432x288 with 1 Axes>"
      ]
     },
     "metadata": {
      "needs_background": "light"
     },
     "output_type": "display_data"
    }
   ],
   "source": [
    "sns.barplot(data['out/in'],data['temp'])\n",
    "plt.show()"
   ]
  },
  {
   "cell_type": "markdown",
   "id": "0eb15534",
   "metadata": {},
   "source": [
    "The barplot gives us the value of average inside and outside temperatures. Mean inside temperature = 30.45 and mean outside temperature = 36.26"
   ]
  },
  {
   "cell_type": "code",
   "execution_count": 25,
   "id": "8aed43e7",
   "metadata": {},
   "outputs": [
    {
     "data": {
      "image/png": "[encoded data removed]",
      "text/plain": [
       "<Figure size 1440x720 with 1 Axes>"
      ]
     },
     "metadata": {
      "needs_background": "light"
     },
     "output_type": "display_data"
    }
   ],
   "source": [
    "plt.figure(figsize = (20,10))\n",
    "sns.countplot('temp', data = data, hue = 'out/in');"
   ]
  },
  {
   "cell_type": "markdown",
   "id": "8417d8d8",
   "metadata": {},
   "source": [
    "This barplot gives the frequency of each degree of temperature seperately for inside (in blue) and ouside (in orange)."
   ]
  }
 ],
 "metadata": {
  "kernelspec": {
   "display_name": "Python 3 (ipykernel)",
   "language": "python",
   "name": "python3"
  },
  "language_info": {
   "codemirror_mode": {
    "name": "ipython",
    "version": 3
   },
   "file_extension": ".py",
   "mimetype": "text/x-python",
   "name": "python",
   "nbconvert_exporter": "python",
   "pygments_lexer": "ipython3",
   "version": "3.9.12"
  }
 },
 "nbformat": 4,
 "nbformat_minor": 5
}
