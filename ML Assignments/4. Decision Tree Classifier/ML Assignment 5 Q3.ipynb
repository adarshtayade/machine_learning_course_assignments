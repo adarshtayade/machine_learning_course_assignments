{
 "cells": [
  {
   "cell_type": "markdown",
   "id": "f54b49a5",
   "metadata": {},
   "source": [
    "### Problem Statement:\n",
    "\n",
    "#### Refer house pricing dataset. Apply appropriate EDA methods wherever required and perform feature engineering. Construct a model using a decision tree. Analyse the performance of the model with suitable evaluation measures."
   ]
  },
  {
   "cell_type": "markdown",
   "id": "8fcb1f1b",
   "metadata": {},
   "source": [
    "### Importing libraries"
   ]
  },
  {
   "cell_type": "code",
   "execution_count": 1,
   "id": "eddfd53d",
   "metadata": {},
   "outputs": [],
   "source": [
    "import pandas as pd\n",
    "import numpy as np\n",
    "from sklearn import preprocessing\n",
    "import matplotlib.pyplot as plt \n",
    "plt.rc(\"font\", size=14)\n",
    "import seaborn as sns\n",
    "sns.set(style=\"white\")\n",
    "sns.set(style=\"whitegrid\", color_codes=True)\n",
    "from sklearn.tree import DecisionTreeClassifier\n",
    "from sklearn.model_selection import train_test_split\n",
    "from sklearn.metrics import confusion_matrix, classification_report, accuracy_score\n",
    "import warnings\n",
    "warnings.filterwarnings('ignore')"
   ]
  },
  {
   "cell_type": "markdown",
   "id": "23ccd3ab",
   "metadata": {},
   "source": [
    "### Load house pricing dataset"
   ]
  },
  {
   "cell_type": "code",
   "execution_count": 4,
   "id": "942df26a",
   "metadata": {},
   "outputs": [
    {
     "data": {
      "text/html": [
       "<div>\n",
       "<style scoped>\n",
       "    .dataframe tbody tr th:only-of-type {\n",
       "        vertical-align: middle;\n",
       "    }\n",
       "\n",
       "    .dataframe tbody tr th {\n",
       "        vertical-align: top;\n",
       "    }\n",
       "\n",
       "    .dataframe thead th {\n",
       "        text-align: right;\n",
       "    }\n",
       "</style>\n",
       "<table border=\"1\" class=\"dataframe\">\n",
       "  <thead>\n",
       "    <tr style=\"text-align: right;\">\n",
       "      <th></th>\n",
       "      <th>Avg. Area Income</th>\n",
       "      <th>Avg. Area House Age</th>\n",
       "      <th>Avg. Area Number of Rooms</th>\n",
       "      <th>Avg. Area Number of Bedrooms</th>\n",
       "      <th>Area Population</th>\n",
       "      <th>Price</th>\n",
       "      <th>Address</th>\n",
       "    </tr>\n",
       "  </thead>\n",
       "  <tbody>\n",
       "    <tr>\n",
       "      <th>0</th>\n",
       "      <td>79545.458574</td>\n",
       "      <td>5.682861</td>\n",
       "      <td>7.009188</td>\n",
       "      <td>4.09</td>\n",
       "      <td>23086.800503</td>\n",
       "      <td>1.059034e+06</td>\n",
       "      <td>208 Michael Ferry Apt. 674\\nLaurabury, NE 3701...</td>\n",
       "    </tr>\n",
       "    <tr>\n",
       "      <th>1</th>\n",
       "      <td>79248.642455</td>\n",
       "      <td>6.002900</td>\n",
       "      <td>6.730821</td>\n",
       "      <td>3.09</td>\n",
       "      <td>40173.072174</td>\n",
       "      <td>1.505891e+06</td>\n",
       "      <td>188 Johnson Views Suite 079\\nLake Kathleen, CA...</td>\n",
       "    </tr>\n",
       "    <tr>\n",
       "      <th>2</th>\n",
       "      <td>61287.067179</td>\n",
       "      <td>5.865890</td>\n",
       "      <td>8.512727</td>\n",
       "      <td>5.13</td>\n",
       "      <td>36882.159400</td>\n",
       "      <td>1.058988e+06</td>\n",
       "      <td>9127 Elizabeth Stravenue\\nDanieltown, WI 06482...</td>\n",
       "    </tr>\n",
       "    <tr>\n",
       "      <th>3</th>\n",
       "      <td>63345.240046</td>\n",
       "      <td>7.188236</td>\n",
       "      <td>5.586729</td>\n",
       "      <td>3.26</td>\n",
       "      <td>34310.242831</td>\n",
       "      <td>1.260617e+06</td>\n",
       "      <td>USS Barnett\\nFPO AP 44820</td>\n",
       "    </tr>\n",
       "    <tr>\n",
       "      <th>4</th>\n",
       "      <td>59982.197226</td>\n",
       "      <td>5.040555</td>\n",
       "      <td>7.839388</td>\n",
       "      <td>4.23</td>\n",
       "      <td>26354.109472</td>\n",
       "      <td>6.309435e+05</td>\n",
       "      <td>USNS Raymond\\nFPO AE 09386</td>\n",
       "    </tr>\n",
       "    <tr>\n",
       "      <th>...</th>\n",
       "      <td>...</td>\n",
       "      <td>...</td>\n",
       "      <td>...</td>\n",
       "      <td>...</td>\n",
       "      <td>...</td>\n",
       "      <td>...</td>\n",
       "      <td>...</td>\n",
       "    </tr>\n",
       "    <tr>\n",
       "      <th>4995</th>\n",
       "      <td>60567.944140</td>\n",
       "      <td>7.830362</td>\n",
       "      <td>6.137356</td>\n",
       "      <td>3.46</td>\n",
       "      <td>22837.361035</td>\n",
       "      <td>1.060194e+06</td>\n",
       "      <td>USNS Williams\\nFPO AP 30153-7653</td>\n",
       "    </tr>\n",
       "    <tr>\n",
       "      <th>4996</th>\n",
       "      <td>78491.275435</td>\n",
       "      <td>6.999135</td>\n",
       "      <td>6.576763</td>\n",
       "      <td>4.02</td>\n",
       "      <td>25616.115489</td>\n",
       "      <td>1.482618e+06</td>\n",
       "      <td>PSC 9258, Box 8489\\nAPO AA 42991-3352</td>\n",
       "    </tr>\n",
       "    <tr>\n",
       "      <th>4997</th>\n",
       "      <td>63390.686886</td>\n",
       "      <td>7.250591</td>\n",
       "      <td>4.805081</td>\n",
       "      <td>2.13</td>\n",
       "      <td>33266.145490</td>\n",
       "      <td>1.030730e+06</td>\n",
       "      <td>4215 Tracy Garden Suite 076\\nJoshualand, VA 01...</td>\n",
       "    </tr>\n",
       "    <tr>\n",
       "      <th>4998</th>\n",
       "      <td>68001.331235</td>\n",
       "      <td>5.534388</td>\n",
       "      <td>7.130144</td>\n",
       "      <td>5.44</td>\n",
       "      <td>42625.620156</td>\n",
       "      <td>1.198657e+06</td>\n",
       "      <td>USS Wallace\\nFPO AE 73316</td>\n",
       "    </tr>\n",
       "    <tr>\n",
       "      <th>4999</th>\n",
       "      <td>65510.581804</td>\n",
       "      <td>5.992305</td>\n",
       "      <td>6.792336</td>\n",
       "      <td>4.07</td>\n",
       "      <td>46501.283803</td>\n",
       "      <td>1.298950e+06</td>\n",
       "      <td>37778 George Ridges Apt. 509\\nEast Holly, NV 2...</td>\n",
       "    </tr>\n",
       "  </tbody>\n",
       "</table>\n",
       "<p>5000 rows × 7 columns</p>\n",
       "</div>"
      ],
      "text/plain": [
       "      Avg. Area Income  Avg. Area House Age  Avg. Area Number of Rooms  \\\n",
       "0         79545.458574             5.682861                   7.009188   \n",
       "1         79248.642455             6.002900                   6.730821   \n",
       "2         61287.067179             5.865890                   8.512727   \n",
       "3         63345.240046             7.188236                   5.586729   \n",
       "4         59982.197226             5.040555                   7.839388   \n",
       "...                ...                  ...                        ...   \n",
       "4995      60567.944140             7.830362                   6.137356   \n",
       "4996      78491.275435             6.999135                   6.576763   \n",
       "4997      63390.686886             7.250591                   4.805081   \n",
       "4998      68001.331235             5.534388                   7.130144   \n",
       "4999      65510.581804             5.992305                   6.792336   \n",
       "\n",
       "      Avg. Area Number of Bedrooms  Area Population         Price  \\\n",
       "0                             4.09     23086.800503  1.059034e+06   \n",
       "1                             3.09     40173.072174  1.505891e+06   \n",
       "2                             5.13     36882.159400  1.058988e+06   \n",
       "3                             3.26     34310.242831  1.260617e+06   \n",
       "4                             4.23     26354.109472  6.309435e+05   \n",
       "...                            ...              ...           ...   \n",
       "4995                          3.46     22837.361035  1.060194e+06   \n",
       "4996                          4.02     25616.115489  1.482618e+06   \n",
       "4997                          2.13     33266.145490  1.030730e+06   \n",
       "4998                          5.44     42625.620156  1.198657e+06   \n",
       "4999                          4.07     46501.283803  1.298950e+06   \n",
       "\n",
       "                                                Address  \n",
       "0     208 Michael Ferry Apt. 674\\nLaurabury, NE 3701...  \n",
       "1     188 Johnson Views Suite 079\\nLake Kathleen, CA...  \n",
       "2     9127 Elizabeth Stravenue\\nDanieltown, WI 06482...  \n",
       "3                             USS Barnett\\nFPO AP 44820  \n",
       "4                            USNS Raymond\\nFPO AE 09386  \n",
       "...                                                 ...  \n",
       "4995                   USNS Williams\\nFPO AP 30153-7653  \n",
       "4996              PSC 9258, Box 8489\\nAPO AA 42991-3352  \n",
       "4997  4215 Tracy Garden Suite 076\\nJoshualand, VA 01...  \n",
       "4998                          USS Wallace\\nFPO AE 73316  \n",
       "4999  37778 George Ridges Apt. 509\\nEast Holly, NV 2...  \n",
       "\n",
       "[5000 rows x 7 columns]"
      ]
     },
     "execution_count": 4,
     "metadata": {},
     "output_type": "execute_result"
    }
   ],
   "source": [
    "df = pd.read_csv('USA_Housing-Copy1.csv')\n",
    "df"
   ]
  },
  {
   "cell_type": "code",
   "execution_count": 5,
   "id": "33a435e5",
   "metadata": {},
   "outputs": [
    {
     "name": "stdout",
     "output_type": "stream",
     "text": [
      "<class 'pandas.core.frame.DataFrame'>\n",
      "RangeIndex: 5000 entries, 0 to 4999\n",
      "Data columns (total 7 columns):\n",
      " #   Column                        Non-Null Count  Dtype  \n",
      "---  ------                        --------------  -----  \n",
      " 0   Avg. Area Income              5000 non-null   float64\n",
      " 1   Avg. Area House Age           5000 non-null   float64\n",
      " 2   Avg. Area Number of Rooms     5000 non-null   float64\n",
      " 3   Avg. Area Number of Bedrooms  5000 non-null   float64\n",
      " 4   Area Population               5000 non-null   float64\n",
      " 5   Price                         5000 non-null   float64\n",
      " 6   Address                       5000 non-null   object \n",
      "dtypes: float64(6), object(1)\n",
      "memory usage: 273.6+ KB\n"
     ]
    }
   ],
   "source": [
    "df.info() "
   ]
  },
  {
   "cell_type": "code",
   "execution_count": 6,
   "id": "295daa3a",
   "metadata": {},
   "outputs": [
    {
     "data": {
      "text/html": [
       "<div>\n",
       "<style scoped>\n",
       "    .dataframe tbody tr th:only-of-type {\n",
       "        vertical-align: middle;\n",
       "    }\n",
       "\n",
       "    .dataframe tbody tr th {\n",
       "        vertical-align: top;\n",
       "    }\n",
       "\n",
       "    .dataframe thead th {\n",
       "        text-align: right;\n",
       "    }\n",
       "</style>\n",
       "<table border=\"1\" class=\"dataframe\">\n",
       "  <thead>\n",
       "    <tr style=\"text-align: right;\">\n",
       "      <th></th>\n",
       "      <th>Avg. Area Income</th>\n",
       "      <th>Avg. Area House Age</th>\n",
       "      <th>Avg. Area Number of Rooms</th>\n",
       "      <th>Avg. Area Number of Bedrooms</th>\n",
       "      <th>Area Population</th>\n",
       "      <th>Price</th>\n",
       "    </tr>\n",
       "  </thead>\n",
       "  <tbody>\n",
       "    <tr>\n",
       "      <th>count</th>\n",
       "      <td>5000.000000</td>\n",
       "      <td>5000.000000</td>\n",
       "      <td>5000.000000</td>\n",
       "      <td>5000.000000</td>\n",
       "      <td>5000.000000</td>\n",
       "      <td>5.000000e+03</td>\n",
       "    </tr>\n",
       "    <tr>\n",
       "      <th>mean</th>\n",
       "      <td>68583.108984</td>\n",
       "      <td>5.977222</td>\n",
       "      <td>6.987792</td>\n",
       "      <td>3.981330</td>\n",
       "      <td>36163.516039</td>\n",
       "      <td>1.232073e+06</td>\n",
       "    </tr>\n",
       "    <tr>\n",
       "      <th>std</th>\n",
       "      <td>10657.991214</td>\n",
       "      <td>0.991456</td>\n",
       "      <td>1.005833</td>\n",
       "      <td>1.234137</td>\n",
       "      <td>9925.650114</td>\n",
       "      <td>3.531176e+05</td>\n",
       "    </tr>\n",
       "    <tr>\n",
       "      <th>min</th>\n",
       "      <td>17796.631190</td>\n",
       "      <td>2.644304</td>\n",
       "      <td>3.236194</td>\n",
       "      <td>2.000000</td>\n",
       "      <td>172.610686</td>\n",
       "      <td>1.593866e+04</td>\n",
       "    </tr>\n",
       "    <tr>\n",
       "      <th>25%</th>\n",
       "      <td>61480.562388</td>\n",
       "      <td>5.322283</td>\n",
       "      <td>6.299250</td>\n",
       "      <td>3.140000</td>\n",
       "      <td>29403.928702</td>\n",
       "      <td>9.975771e+05</td>\n",
       "    </tr>\n",
       "    <tr>\n",
       "      <th>50%</th>\n",
       "      <td>68804.286404</td>\n",
       "      <td>5.970429</td>\n",
       "      <td>7.002902</td>\n",
       "      <td>4.050000</td>\n",
       "      <td>36199.406689</td>\n",
       "      <td>1.232669e+06</td>\n",
       "    </tr>\n",
       "    <tr>\n",
       "      <th>75%</th>\n",
       "      <td>75783.338666</td>\n",
       "      <td>6.650808</td>\n",
       "      <td>7.665871</td>\n",
       "      <td>4.490000</td>\n",
       "      <td>42861.290769</td>\n",
       "      <td>1.471210e+06</td>\n",
       "    </tr>\n",
       "    <tr>\n",
       "      <th>max</th>\n",
       "      <td>107701.748378</td>\n",
       "      <td>9.519088</td>\n",
       "      <td>10.759588</td>\n",
       "      <td>6.500000</td>\n",
       "      <td>69621.713378</td>\n",
       "      <td>2.469066e+06</td>\n",
       "    </tr>\n",
       "  </tbody>\n",
       "</table>\n",
       "</div>"
      ],
      "text/plain": [
       "       Avg. Area Income  Avg. Area House Age  Avg. Area Number of Rooms  \\\n",
       "count       5000.000000          5000.000000                5000.000000   \n",
       "mean       68583.108984             5.977222                   6.987792   \n",
       "std        10657.991214             0.991456                   1.005833   \n",
       "min        17796.631190             2.644304                   3.236194   \n",
       "25%        61480.562388             5.322283                   6.299250   \n",
       "50%        68804.286404             5.970429                   7.002902   \n",
       "75%        75783.338666             6.650808                   7.665871   \n",
       "max       107701.748378             9.519088                  10.759588   \n",
       "\n",
       "       Avg. Area Number of Bedrooms  Area Population         Price  \n",
       "count                   5000.000000      5000.000000  5.000000e+03  \n",
       "mean                       3.981330     36163.516039  1.232073e+06  \n",
       "std                        1.234137      9925.650114  3.531176e+05  \n",
       "min                        2.000000       172.610686  1.593866e+04  \n",
       "25%                        3.140000     29403.928702  9.975771e+05  \n",
       "50%                        4.050000     36199.406689  1.232669e+06  \n",
       "75%                        4.490000     42861.290769  1.471210e+06  \n",
       "max                        6.500000     69621.713378  2.469066e+06  "
      ]
     },
     "execution_count": 6,
     "metadata": {},
     "output_type": "execute_result"
    }
   ],
   "source": [
    "df.describe()"
   ]
  },
  {
   "cell_type": "code",
   "execution_count": 7,
   "id": "cc2bc506",
   "metadata": {},
   "outputs": [
    {
     "data": {
      "text/plain": [
       "Avg. Area Income                float64\n",
       "Avg. Area House Age             float64\n",
       "Avg. Area Number of Rooms       float64\n",
       "Avg. Area Number of Bedrooms    float64\n",
       "Area Population                 float64\n",
       "Price                           float64\n",
       "Address                          object\n",
       "dtype: object"
      ]
     },
     "execution_count": 7,
     "metadata": {},
     "output_type": "execute_result"
    }
   ],
   "source": [
    "df.dtypes"
   ]
  },
  {
   "cell_type": "markdown",
   "id": "efe141ef",
   "metadata": {},
   "source": [
    "### Preprocess the data"
   ]
  },
  {
   "cell_type": "code",
   "execution_count": 9,
   "id": "3e89dbd8",
   "metadata": {},
   "outputs": [
    {
     "data": {
      "text/plain": [
       "Avg. Area Income                0\n",
       "Avg. Area House Age             0\n",
       "Avg. Area Number of Rooms       0\n",
       "Avg. Area Number of Bedrooms    0\n",
       "Area Population                 0\n",
       "Price                           0\n",
       "Address                         0\n",
       "dtype: int64"
      ]
     },
     "execution_count": 9,
     "metadata": {},
     "output_type": "execute_result"
    }
   ],
   "source": [
    "df.isna().sum()"
   ]
  },
  {
   "cell_type": "markdown",
   "id": "e96dce66",
   "metadata": {},
   "source": [
    "#### Checking Duplicates in data"
   ]
  },
  {
   "cell_type": "code",
   "execution_count": 10,
   "id": "bc4928ce",
   "metadata": {},
   "outputs": [
    {
     "data": {
      "text/plain": [
       "0"
      ]
     },
     "execution_count": 10,
     "metadata": {},
     "output_type": "execute_result"
    }
   ],
   "source": [
    "df.duplicated().sum()"
   ]
  },
  {
   "cell_type": "markdown",
   "id": "fe22edee",
   "metadata": {},
   "source": [
    "### Exporatory Data Analysis"
   ]
  },
  {
   "cell_type": "markdown",
   "id": "9c84d335",
   "metadata": {},
   "source": [
    "#### Distribution Plot of Price Column"
   ]
  },
  {
   "cell_type": "code",
   "execution_count": 13,
   "id": "c3c81cc2",
   "metadata": {},
   "outputs": [
    {
     "data": {
      "text/plain": [
       "<seaborn.axisgrid.FacetGrid at 0x166f8a5f910>"
      ]
     },
     "execution_count": 13,
     "metadata": {},
     "output_type": "execute_result"
    },
    {
     "data": {
      "image/png": "[encoded data removed]",
      "text/plain": [
       "<Figure size 360x360 with 1 Axes>"
      ]
     },
     "metadata": {},
     "output_type": "display_data"
    }
   ],
   "source": [
    "sns.displot(df.Price,kind = 'kde',color = 'red')"
   ]
  },
  {
   "cell_type": "markdown",
   "id": "a461069c",
   "metadata": {},
   "source": [
    "Price column follow normal distribution"
   ]
  },
  {
   "cell_type": "markdown",
   "id": "ffe6550b",
   "metadata": {},
   "source": [
    "#### Heatmap showing the correlation coefficients between all pairs of features in the dataset."
   ]
  },
  {
   "cell_type": "code",
   "execution_count": 14,
   "id": "b342eb8b",
   "metadata": {},
   "outputs": [
    {
     "data": {
      "image/png": "[encoded data removed]",
      "text/plain": [
       "<Figure size 432x288 with 2 Axes>"
      ]
     },
     "metadata": {},
     "output_type": "display_data"
    }
   ],
   "source": [
    "corr_matrix = df.corr()\n",
    "sns.heatmap(corr_matrix, cmap = 'coolwarm', annot = True);"
   ]
  },
  {
   "cell_type": "markdown",
   "id": "0aa82711",
   "metadata": {},
   "source": [
    "`Avg. Area Income` column is having the higest correlation with `Price` columns \n",
    "And remaning columns having negative correlation with `Price` columns "
   ]
  },
  {
   "cell_type": "code",
   "execution_count": 15,
   "id": "5d177917",
   "metadata": {},
   "outputs": [],
   "source": [
    "X = df.drop(['Price','Address'], axis = 1)\n",
    "Y = df['Price']\n",
    "X_train, X_test, Y_train, Y_test = train_test_split(X, Y, test_size = 0.2, random_state = 0)"
   ]
  },
  {
   "cell_type": "markdown",
   "id": "f9d9192a",
   "metadata": {},
   "source": [
    "### Fitting the model"
   ]
  },
  {
   "cell_type": "code",
   "execution_count": 16,
   "id": "7aa1b97d",
   "metadata": {},
   "outputs": [],
   "source": [
    "from sklearn.tree import DecisionTreeRegressor\n",
    "model = DecisionTreeRegressor(max_depth = 5)"
   ]
  },
  {
   "cell_type": "code",
   "execution_count": 17,
   "id": "1ef69cc3",
   "metadata": {},
   "outputs": [
    {
     "data": {
      "text/plain": [
       "DecisionTreeRegressor(max_depth=5)"
      ]
     },
     "execution_count": 17,
     "metadata": {},
     "output_type": "execute_result"
    }
   ],
   "source": [
    "model.fit(X_train,Y_train)"
   ]
  },
  {
   "cell_type": "code",
   "execution_count": 18,
   "id": "39ac5943",
   "metadata": {},
   "outputs": [
    {
     "data": {
      "text/plain": [
       "array([ 827128.14056814,  847280.36797475, 1047544.49882175,\n",
       "        808462.36101596,  745612.02428905, 1228380.56977463,\n",
       "        808462.36101596,  808462.36101596, 1677747.76396343,\n",
       "       1467916.73748222, 1052810.99344645, 1228380.56977463,\n",
       "       2049294.45081517,  847280.36797475, 1047544.49882175,\n",
       "       1054951.98808878, 1284552.88317858,  827128.14056814,\n",
       "       1467916.73748222, 1368713.97174601, 1047544.49882175,\n",
       "       1052810.99344645, 1467916.73748222, 1057572.55921812,\n",
       "       1301830.5163635 , 1054951.98808878, 1047544.49882175,\n",
       "       1467916.73748222, 1368713.97174601, 1445373.01463279,\n",
       "       1301830.5163635 , 1677747.76396343, 1028522.29998854,\n",
       "       1445373.01463279, 1228380.56977463,  847280.36797475,\n",
       "       1052810.99344645, 1750883.93907996, 1260416.02879929,\n",
       "       1368713.97174601, 1467916.73748222,  827128.14056814,\n",
       "       1248870.24591597, 1228380.56977463,  745612.02428905,\n",
       "       1526671.76378248, 1234567.6235955 , 1515806.76301118,\n",
       "       1134434.51152028, 1047544.49882175, 1057572.55921812,\n",
       "       1368713.97174601, 1062880.88340665, 1515806.76301118,\n",
       "       1368713.97174601,  745612.02428905, 1295971.53057154,\n",
       "       1295971.53057154, 1028522.29998854, 1526671.76378248,\n",
       "       1446089.74371412, 1467916.73748222, 1047544.49882175,\n",
       "       1467916.73748222, 1295971.53057154, 1295971.53057154,\n",
       "       1047544.49882175, 1515806.76301118, 1445373.01463279,\n",
       "       1260416.02879929, 1515806.76301118, 1677747.76396343,\n",
       "        827128.14056814, 1248870.24591597, 1765820.59332654,\n",
       "       1765820.59332654, 1750883.93907996, 1515806.76301118,\n",
       "       1260416.02879929, 1467916.73748222,  847280.36797475,\n",
       "       1260416.02879929, 1248870.24591597, 1028522.29998854,\n",
       "       1301830.5163635 , 1028522.29998854, 1284552.88317858,\n",
       "       1052810.99344645, 1301830.5163635 , 1467916.73748222,\n",
       "       1260416.02879929, 1047544.49882175, 1260416.02879929,\n",
       "       1855810.10190446, 1052810.99344645, 1515806.76301118,\n",
       "       1445373.01463279, 1057572.55921812,  827128.14056814,\n",
       "       1062880.88340665, 1515806.76301118, 1677747.76396343,\n",
       "        745612.02428905,  808462.36101596, 1228380.56977463,\n",
       "       1052810.99344645, 1750883.93907996, 1052810.99344645,\n",
       "       1445373.01463279, 1301830.5163635 , 1260416.02879929,\n",
       "       1467916.73748222,  847280.36797475, 1028522.29998854,\n",
       "        847280.36797475, 1062880.88340665, 1047544.49882175,\n",
       "       1028522.29998854,  847280.36797475, 1467916.73748222,\n",
       "       1445373.01463279, 1028522.29998854, 1047544.49882175,\n",
       "       1301830.5163635 , 1446089.74371412, 1234567.6235955 ,\n",
       "       1057572.55921812, 1052810.99344645,  808462.36101596,\n",
       "       1368713.97174601,  847280.36797475, 1750883.93907996,\n",
       "       1052810.99344645, 1054951.98808878, 1301830.5163635 ,\n",
       "       1047544.49882175,  827128.14056814, 1765820.59332654,\n",
       "       1301830.5163635 ,  827128.14056814, 1750883.93907996,\n",
       "       1062880.88340665, 1054951.98808878, 1234567.6235955 ,\n",
       "       1467916.73748222, 1301830.5163635 , 1467916.73748222,\n",
       "        827128.14056814, 1047544.49882175, 1467916.73748222,\n",
       "       1028522.29998854,  745612.02428905, 1052810.99344645,\n",
       "       1052810.99344645, 1047544.49882175,  745612.02428905,\n",
       "       1052810.99344645, 1765820.59332654, 1028522.29998854,\n",
       "       1228380.56977463, 1028522.29998854, 1052810.99344645,\n",
       "       1677747.76396343, 1526671.76378248, 1260416.02879929,\n",
       "       1445373.01463279, 1062880.88340665, 1057572.55921812,\n",
       "       1526671.76378248, 1301830.5163635 , 1765820.59332654,\n",
       "       1047544.49882175, 1047544.49882175, 1750883.93907996,\n",
       "       1467916.73748222, 1677747.76396343, 1295971.53057154,\n",
       "       1368713.97174601, 1445373.01463279, 1467916.73748222,\n",
       "        827128.14056814, 1765820.59332654, 1467916.73748222,\n",
       "        745612.02428905, 1260416.02879929, 1028522.29998854,\n",
       "       1047544.49882175, 1248870.24591597, 1134434.51152028,\n",
       "       1047544.49882175, 1047544.49882175, 1526671.76378248,\n",
       "       1228380.56977463,  745612.02428905, 1047544.49882175,\n",
       "       1260416.02879929, 1526671.76378248, 1260416.02879929,\n",
       "       1052810.99344645,  847280.36797475, 1295971.53057154,\n",
       "       1248870.24591597, 1062880.88340665, 1047544.49882175,\n",
       "       1248870.24591597,  808462.36101596, 1677747.76396343,\n",
       "       1260416.02879929, 1260416.02879929, 1467916.73748222,\n",
       "       1054951.98808878, 1445373.01463279,  745612.02428905,\n",
       "       1301830.5163635 , 1070804.10811427, 1047544.49882175,\n",
       "       1047544.49882175, 1062880.88340665, 1228380.56977463,\n",
       "       1467916.73748222, 1750883.93907996, 1054951.98808878,\n",
       "        847280.36797475, 1260416.02879929, 1855810.10190446,\n",
       "       1047544.49882175, 1052810.99344645, 1062880.88340665,\n",
       "       1248870.24591597, 1677747.76396343, 1467916.73748222,\n",
       "        827128.14056814,  847280.36797475,  745612.02428905,\n",
       "       1515806.76301118, 1062880.88340665, 1248870.24591597,\n",
       "        827128.14056814,  847280.36797475, 1047544.49882175,\n",
       "       1234567.6235955 , 1765820.59332654,  847280.36797475,\n",
       "       1467916.73748222, 1234567.6235955 , 1228380.56977463,\n",
       "       1750883.93907996, 1467916.73748222, 1260416.02879929,\n",
       "       1855810.10190446, 1467916.73748222, 1070804.10811427,\n",
       "       1368713.97174601, 1057572.55921812, 1260416.02879929,\n",
       "       1284552.88317858, 1054951.98808878, 1515806.76301118,\n",
       "       1467916.73748222, 1301830.5163635 , 1047544.49882175,\n",
       "        745612.02428905,  808462.36101596, 1515806.76301118,\n",
       "        847280.36797475,  745612.02428905,  808462.36101596,\n",
       "       1070804.10811427, 1301830.5163635 , 1260416.02879929,\n",
       "       1228380.56977463, 1234567.6235955 ,  847280.36797475,\n",
       "       1515806.76301118, 1526671.76378248, 1134434.51152028,\n",
       "       1445373.01463279,  745612.02428905, 1467916.73748222,\n",
       "       1228380.56977463, 1260416.02879929, 1445373.01463279,\n",
       "        827128.14056814, 1134434.51152028, 1467916.73748222,\n",
       "       1855810.10190446, 1467916.73748222, 1295971.53057154,\n",
       "       1028522.29998854, 1054951.98808878,  827128.14056814,\n",
       "       1515806.76301118,  847280.36797475, 1301830.5163635 ,\n",
       "       1134434.51152028, 1677747.76396343, 1228380.56977463,\n",
       "       1295971.53057154, 1047544.49882175,  745612.02428905,\n",
       "       1248870.24591597, 1765820.59332654, 1515806.76301118,\n",
       "       1234567.6235955 , 1677747.76396343,  808462.36101596,\n",
       "       2049294.45081517, 1368713.97174601, 1677747.76396343,\n",
       "       1467916.73748222, 1228380.56977463,  847280.36797475,\n",
       "       1467916.73748222, 1260416.02879929,  808462.36101596,\n",
       "       1052810.99344645, 1248870.24591597, 1750883.93907996,\n",
       "       1234567.6235955 , 1467916.73748222, 1047544.49882175,\n",
       "        827128.14056814, 1515806.76301118, 1047544.49882175,\n",
       "       1446089.74371412, 1515806.76301118, 1228380.56977463,\n",
       "       1467916.73748222, 1515806.76301118, 1047544.49882175,\n",
       "       1467916.73748222, 1070804.10811427,  827128.14056814,\n",
       "       1301830.5163635 , 1750883.93907996, 1301830.5163635 ,\n",
       "       1526671.76378248, 1028522.29998854, 1677747.76396343,\n",
       "       1750883.93907996, 1028522.29998854, 1052810.99344645,\n",
       "        827128.14056814,  827128.14056814,  745612.02428905,\n",
       "       1047544.49882175, 1062880.88340665, 1467916.73748222,\n",
       "       1445373.01463279, 1301830.5163635 , 1248870.24591597,\n",
       "       1052810.99344645,  827128.14056814,  827128.14056814,\n",
       "       1228380.56977463,  847280.36797475, 1052810.99344645,\n",
       "       1301830.5163635 , 1248870.24591597, 1062880.88340665,\n",
       "       1750883.93907996, 2049294.45081517,  847280.36797475,\n",
       "       1054951.98808878, 1260416.02879929,  827128.14056814,\n",
       "       1234567.6235955 , 1467916.73748222,  745612.02428905,\n",
       "       1368713.97174601, 1054951.98808878, 1677747.76396343,\n",
       "       1047544.49882175,  827128.14056814, 1677747.76396343,\n",
       "       1062880.88340665,  827128.14056814, 1062880.88340665,\n",
       "       1260416.02879929,  847280.36797475, 1526671.76378248,\n",
       "       1467916.73748222, 1526671.76378248, 1028522.29998854,\n",
       "       1526671.76378248, 1750883.93907996, 1052810.99344645,\n",
       "       1467916.73748222, 1134434.51152028, 1467916.73748222,\n",
       "       1047544.49882175, 1750883.93907996, 1301830.5163635 ,\n",
       "       1368713.97174601, 1057572.55921812, 1301830.5163635 ,\n",
       "       1765820.59332654, 1515806.76301118, 1301830.5163635 ,\n",
       "       1052810.99344645, 1750883.93907996,  827128.14056814,\n",
       "       1677747.76396343, 1047544.49882175, 1765820.59332654,\n",
       "       1467916.73748222, 1526671.76378248, 1070804.10811427,\n",
       "       1052810.99344645, 1515806.76301118, 1301830.5163635 ,\n",
       "       1134434.51152028, 1368713.97174601,  847280.36797475,\n",
       "       1445373.01463279, 1515806.76301118,  487244.55427576,\n",
       "       1677747.76396343, 1052810.99344645,  827128.14056814,\n",
       "       1467916.73748222, 1260416.02879929, 1248870.24591597,\n",
       "        827128.14056814, 1445373.01463279, 1467916.73748222,\n",
       "       1445373.01463279, 1445373.01463279,  487244.55427576,\n",
       "       1052810.99344645, 1052810.99344645, 1515806.76301118,\n",
       "       1750883.93907996,  808462.36101596, 1526671.76378248,\n",
       "       1260416.02879929,  827128.14056814, 1070804.10811427,\n",
       "        847280.36797475, 1750883.93907996, 1467916.73748222,\n",
       "       1228380.56977463, 1047544.49882175, 1047544.49882175,\n",
       "        808462.36101596, 1054951.98808878,  745612.02428905,\n",
       "       1260416.02879929, 1750883.93907996,  847280.36797475,\n",
       "       1028522.29998854, 1228380.56977463, 1467916.73748222,\n",
       "       1054951.98808878, 1526671.76378248, 1052810.99344645,\n",
       "       1284552.88317858, 1228380.56977463,  487244.55427576,\n",
       "       1467916.73748222, 1260416.02879929, 1301830.5163635 ,\n",
       "       1248870.24591597, 1052810.99344645, 1284552.88317858,\n",
       "       1234567.6235955 , 1228380.56977463, 1301830.5163635 ,\n",
       "       1467916.73748222, 1284552.88317858, 1301830.5163635 ,\n",
       "        808462.36101596, 1301830.5163635 , 1526671.76378248,\n",
       "       1446089.74371412, 1368713.97174601, 1301830.5163635 ,\n",
       "        487244.55427576, 1750883.93907996, 1677747.76396343,\n",
       "       1260416.02879929, 1515806.76301118,  827128.14056814,\n",
       "       1234567.6235955 , 1047544.49882175, 2049294.45081517,\n",
       "       1047544.49882175, 1445373.01463279, 1052810.99344645,\n",
       "       1515806.76301118, 1028522.29998854, 1301830.5163635 ,\n",
       "        827128.14056814, 1526671.76378248,  487244.55427576,\n",
       "       1301830.5163635 , 1467916.73748222, 1445373.01463279,\n",
       "       1052810.99344645, 1070804.10811427, 1445373.01463279,\n",
       "       1070804.10811427, 1368713.97174601, 1368713.97174601,\n",
       "       1062880.88340665, 1228380.56977463, 1446089.74371412,\n",
       "       1047544.49882175,  847280.36797475, 1260416.02879929,\n",
       "       1052810.99344645, 1515806.76301118, 1047544.49882175,\n",
       "       1052810.99344645, 1228380.56977463, 1047544.49882175,\n",
       "        847280.36797475, 1368713.97174601, 1445373.01463279,\n",
       "       1467916.73748222,  827128.14056814, 1047544.49882175,\n",
       "       1028522.29998854, 1057572.55921812, 1052810.99344645,\n",
       "       1515806.76301118, 1301830.5163635 , 1677747.76396343,\n",
       "       1526671.76378248, 1052810.99344645, 1445373.01463279,\n",
       "       1765820.59332654, 1134434.51152028, 1526671.76378248,\n",
       "       1284552.88317858, 1445373.01463279,  487244.55427576,\n",
       "       1228380.56977463,  745612.02428905, 1467916.73748222,\n",
       "       1515806.76301118,  808462.36101596, 1855810.10190446,\n",
       "       1248870.24591597,  847280.36797475, 1260416.02879929,\n",
       "       1750883.93907996, 1368713.97174601, 1526671.76378248,\n",
       "       1750883.93907996, 1228380.56977463, 1750883.93907996,\n",
       "       1234567.6235955 ,  745612.02428905, 1052810.99344645,\n",
       "       1467916.73748222, 1750883.93907996, 1467916.73748222,\n",
       "       1028522.29998854,  487244.55427576, 1677747.76396343,\n",
       "       1515806.76301118,  745612.02428905, 1228380.56977463,\n",
       "       1445373.01463279, 1057572.55921812, 2049294.45081517,\n",
       "       1445373.01463279, 1526671.76378248, 1445373.01463279,\n",
       "       1467916.73748222, 1248870.24591597, 1228380.56977463,\n",
       "       1526671.76378248, 1028522.29998854, 1260416.02879929,\n",
       "       1677747.76396343, 1260416.02879929, 1526671.76378248,\n",
       "       1526671.76378248, 1855810.10190446, 1467916.73748222,\n",
       "       1295971.53057154, 1765820.59332654, 1765820.59332654,\n",
       "       1260416.02879929, 1062880.88340665, 1301830.5163635 ,\n",
       "       1047544.49882175, 1467916.73748222,  847280.36797475,\n",
       "       1445373.01463279, 1228380.56977463, 1467916.73748222,\n",
       "       1467916.73748222, 1062880.88340665, 1234567.6235955 ,\n",
       "       1301830.5163635 , 1765820.59332654, 1284552.88317858,\n",
       "        847280.36797475, 1301830.5163635 , 1515806.76301118,\n",
       "       1467916.73748222,  847280.36797475,  745612.02428905,\n",
       "       1677747.76396343, 1228380.56977463, 1526671.76378248,\n",
       "       1368713.97174601,  808462.36101596, 1052810.99344645,\n",
       "       1228380.56977463,  745612.02428905, 1526671.76378248,\n",
       "       1054951.98808878, 1047544.49882175, 1057572.55921812,\n",
       "       1052810.99344645, 1515806.76301118, 1467916.73748222,\n",
       "       1047544.49882175, 1301830.5163635 ,  808462.36101596,\n",
       "       1301830.5163635 , 1467916.73748222, 1526671.76378248,\n",
       "       1295971.53057154, 1047544.49882175, 1260416.02879929,\n",
       "       1234567.6235955 , 1467916.73748222, 1295971.53057154,\n",
       "       1445373.01463279, 1228380.56977463, 1301830.5163635 ,\n",
       "       1467916.73748222, 1047544.49882175, 1765820.59332654,\n",
       "       1134434.51152028, 1234567.6235955 ,  827128.14056814,\n",
       "       1062880.88340665, 1134434.51152028, 1677747.76396343,\n",
       "       1057572.55921812,  827128.14056814, 1445373.01463279,\n",
       "       1052810.99344645, 2049294.45081517, 1228380.56977463,\n",
       "       1515806.76301118, 1467916.73748222, 1677747.76396343,\n",
       "       1526671.76378248, 1054951.98808878, 1052810.99344645,\n",
       "       1052810.99344645, 1248870.24591597, 1047544.49882175,\n",
       "       1047544.49882175, 1047544.49882175, 1526671.76378248,\n",
       "       1368713.97174601, 1047544.49882175, 1295971.53057154,\n",
       "       1057572.55921812, 1368713.97174601, 1052810.99344645,\n",
       "       1295971.53057154, 1260416.02879929,  847280.36797475,\n",
       "       1028522.29998854, 1515806.76301118,  745612.02428905,\n",
       "       1526671.76378248,  487244.55427576, 1248870.24591597,\n",
       "       1052810.99344645, 1467916.73748222, 1054951.98808878,\n",
       "       1070804.10811427, 1445373.01463279, 1467916.73748222,\n",
       "       1284552.88317858, 1047544.49882175, 1248870.24591597,\n",
       "       1054951.98808878, 1260416.02879929, 1515806.76301118,\n",
       "       1301830.5163635 , 1750883.93907996, 1467916.73748222,\n",
       "       1526671.76378248, 1467916.73748222, 1284552.88317858,\n",
       "       1301830.5163635 , 1052810.99344645,  847280.36797475,\n",
       "       1047544.49882175,  808462.36101596,  808462.36101596,\n",
       "       1467916.73748222, 1467916.73748222, 1368713.97174601,\n",
       "        487244.55427576, 1047544.49882175, 1062880.88340665,\n",
       "       1855810.10190446, 1445373.01463279,  827128.14056814,\n",
       "       1028522.29998854, 1057572.55921812,  827128.14056814,\n",
       "       1467916.73748222, 1228380.56977463, 1052810.99344645,\n",
       "       1445373.01463279, 1613144.35190007, 1054951.98808878,\n",
       "       1526671.76378248, 1228380.56977463, 1467916.73748222,\n",
       "       1057572.55921812, 1301830.5163635 , 1062880.88340665,\n",
       "       2049294.45081517,  745612.02428905, 1134434.51152028,\n",
       "       1234567.6235955 , 1515806.76301118, 1057572.55921812,\n",
       "       1295971.53057154,  745612.02428905, 1750883.93907996,\n",
       "       1260416.02879929, 1028522.29998854, 1301830.5163635 ,\n",
       "        487244.55427576, 1526671.76378248,  827128.14056814,\n",
       "       1028522.29998854, 1047544.49882175, 1301830.5163635 ,\n",
       "       1134434.51152028, 1301830.5163635 , 1765820.59332654,\n",
       "       1134434.51152028, 1515806.76301118, 1047544.49882175,\n",
       "       1047544.49882175,  847280.36797475, 1765820.59332654,\n",
       "       1052810.99344645, 1467916.73748222, 1134434.51152028,\n",
       "       1284552.88317858,  847280.36797475, 1054951.98808878,\n",
       "       1047544.49882175, 1295971.53057154, 1260416.02879929,\n",
       "       1295971.53057154, 1467916.73748222, 1228380.56977463,\n",
       "       1526671.76378248,  487244.55427576, 1467916.73748222,\n",
       "       1052810.99344645,  847280.36797475, 1515806.76301118,\n",
       "       1467916.73748222, 1047544.49882175, 1467916.73748222,\n",
       "       1301830.5163635 , 1284552.88317858, 1301830.5163635 ,\n",
       "       2049294.45081517, 1677747.76396343,  808462.36101596,\n",
       "       1467916.73748222, 1855810.10190446, 1228380.56977463,\n",
       "       1052810.99344645, 1301830.5163635 ,  847280.36797475,\n",
       "       1070804.10811427, 1677747.76396343, 1047544.49882175,\n",
       "       1295971.53057154, 1228380.56977463, 1057572.55921812,\n",
       "       1467916.73748222,  745612.02428905, 1248870.24591597,\n",
       "        847280.36797475, 1526671.76378248, 1677747.76396343,\n",
       "       1234567.6235955 ,  745612.02428905, 1260416.02879929,\n",
       "       1228380.56977463, 1526671.76378248, 1028522.29998854,\n",
       "       1445373.01463279, 1301830.5163635 , 1052810.99344645,\n",
       "       1052810.99344645,  847280.36797475,  808462.36101596,\n",
       "       1295971.53057154, 1467916.73748222,  827128.14056814,\n",
       "       1134434.51152028, 1052810.99344645, 1028522.29998854,\n",
       "       1526671.76378248, 1228380.56977463, 1368713.97174601,\n",
       "       1047544.49882175, 1526671.76378248, 1467916.73748222,\n",
       "       1750883.93907996, 1677747.76396343, 1467916.73748222,\n",
       "       1515806.76301118, 1047544.49882175,  847280.36797475,\n",
       "       1260416.02879929, 1445373.01463279,  827128.14056814,\n",
       "       1260416.02879929, 1515806.76301118,  808462.36101596,\n",
       "       1445373.01463279, 1047544.49882175, 1526671.76378248,\n",
       "       1445373.01463279, 1054951.98808878, 1526671.76378248,\n",
       "       1260416.02879929, 1855810.10190446, 1054951.98808878,\n",
       "       1765820.59332654, 1228380.56977463, 1047544.49882175,\n",
       "       1467916.73748222, 1515806.76301118,  827128.14056814,\n",
       "       1228380.56977463, 1677747.76396343,  745612.02428905,\n",
       "       1295971.53057154, 1295971.53057154, 1134434.51152028,\n",
       "       1260416.02879929, 1057572.55921812, 1467916.73748222,\n",
       "        827128.14056814, 1677747.76396343, 1054951.98808878,\n",
       "       1467916.73748222, 1062880.88340665, 1134434.51152028,\n",
       "       1260416.02879929, 1295971.53057154, 1515806.76301118,\n",
       "        847280.36797475, 1295971.53057154,  745612.02428905,\n",
       "        847280.36797475,  827128.14056814, 1260416.02879929,\n",
       "       1070804.10811427, 1526671.76378248, 1750883.93907996,\n",
       "       1070804.10811427, 1260416.02879929,  745612.02428905,\n",
       "       1052810.99344645, 1467916.73748222, 1028522.29998854,\n",
       "       1295971.53057154, 1515806.76301118, 1234567.6235955 ,\n",
       "       1515806.76301118, 1301830.5163635 ,  745612.02428905,\n",
       "       2049294.45081517, 1057572.55921812, 1467916.73748222,\n",
       "        827128.14056814, 1054951.98808878, 1368713.97174601,\n",
       "       1028522.29998854, 1467916.73748222, 1052810.99344645,\n",
       "       1260416.02879929, 1028522.29998854, 1301830.5163635 ,\n",
       "       1445373.01463279, 1234567.6235955 , 2049294.45081517,\n",
       "       1855810.10190446, 1526671.76378248, 1677747.76396343,\n",
       "       1054951.98808878, 1368713.97174601,  827128.14056814,\n",
       "       1047544.49882175, 1526671.76378248, 1295971.53057154,\n",
       "       1855810.10190446, 1047544.49882175, 1260416.02879929,\n",
       "       1047544.49882175, 1445373.01463279, 1047544.49882175,\n",
       "       1515806.76301118, 1301830.5163635 , 1677747.76396343,\n",
       "       1301830.5163635 , 1260416.02879929, 1062880.88340665,\n",
       "        827128.14056814, 1052810.99344645, 1765820.59332654,\n",
       "       1052810.99344645, 1234567.6235955 ,  745612.02428905,\n",
       "       1301830.5163635 , 1515806.76301118,  827128.14056814,\n",
       "       1750883.93907996, 1295971.53057154, 1301830.5163635 ,\n",
       "       1228380.56977463, 1295971.53057154, 1467916.73748222,\n",
       "       1047544.49882175, 1467916.73748222, 1284552.88317858,\n",
       "       1047544.49882175, 1368713.97174601, 1047544.49882175,\n",
       "       1228380.56977463, 1052810.99344645, 1855810.10190446,\n",
       "        487244.55427576, 1228380.56977463, 1057572.55921812,\n",
       "       1515806.76301118, 1234567.6235955 , 1765820.59332654,\n",
       "       1047544.49882175, 1052810.99344645, 1301830.5163635 ,\n",
       "       1301830.5163635 , 1467916.73748222, 1070804.10811427,\n",
       "        487244.55427576, 1515806.76301118, 1028522.29998854,\n",
       "       1467916.73748222, 1295971.53057154, 1467916.73748222,\n",
       "        827128.14056814, 1052810.99344645, 1445373.01463279,\n",
       "        827128.14056814, 1295971.53057154, 1057572.55921812,\n",
       "       1467916.73748222, 1052810.99344645, 1052810.99344645,\n",
       "       1062880.88340665, 1248870.24591597, 1295971.53057154,\n",
       "        847280.36797475, 1260416.02879929, 1028522.29998854,\n",
       "       1301830.5163635 , 1052810.99344645,  827128.14056814,\n",
       "       1445373.01463279, 1301830.5163635 , 1052810.99344645,\n",
       "       1301830.5163635 , 1047544.49882175, 1260416.02879929,\n",
       "       1526671.76378248, 1228380.56977463, 1054951.98808878,\n",
       "        808462.36101596, 1445373.01463279, 1047544.49882175,\n",
       "       1054951.98808878,  808462.36101596, 1467916.73748222,\n",
       "       1467916.73748222])"
      ]
     },
     "execution_count": 18,
     "metadata": {},
     "output_type": "execute_result"
    }
   ],
   "source": [
    "Y_pred=model.predict(X_test)\n",
    "Y_pred"
   ]
  },
  {
   "cell_type": "code",
   "execution_count": 25,
   "id": "c67997c3",
   "metadata": {},
   "outputs": [
    {
     "name": "stdout",
     "output_type": "stream",
     "text": [
      "Mean Absolute Error: 167148.21588413752\n",
      "Mean Squared Error: 43822679589.797264\n",
      "Mean Squared error: 209338.6719882336\n",
      "R2 Score: 0.6454441941750708\n"
     ]
    }
   ],
   "source": [
    "from sklearn.metrics import mean_absolute_error, mean_squared_error, r2_score\n",
    "print(\"Mean Absolute Error:\", mean_absolute_error(Y_pred,Y_test))\n",
    "print(\"Mean Squared Error:\",mean_squared_error(Y_pred,Y_test))\n",
    "print(\"Mean Squared error:\", mean_squared_error(Y_pred,Y_test)**0.5)\n",
    "print(\"R2 Score:\", r2_score(Y_test,Y_pred))"
   ]
  },
  {
   "cell_type": "code",
   "execution_count": 26,
   "id": "edb484eb",
   "metadata": {},
   "outputs": [
    {
     "data": {
      "text/plain": [
       "0.6454441941750708"
      ]
     },
     "execution_count": 26,
     "metadata": {},
     "output_type": "execute_result"
    }
   ],
   "source": [
    "model.score(X_test,Y_test)"
   ]
  },
  {
   "cell_type": "markdown",
   "id": "427e34e4",
   "metadata": {},
   "source": [
    "### Decision Tree"
   ]
  },
  {
   "cell_type": "code",
   "execution_count": 27,
   "id": "2207b8f3",
   "metadata": {},
   "outputs": [
    {
     "data": {
      "image/png": "[encoded data removed]",
      "text/plain": [
       "<Figure size 1440x1440 with 1 Axes>"
      ]
     },
     "metadata": {},
     "output_type": "display_data"
    }
   ],
   "source": [
    "from sklearn.tree import plot_tree\n",
    "\n",
    "plt.figure(figsize=(20,20))\n",
    "plot_tree(model,filled=True,rounded=True,feature_names=X_train.columns,class_names=['0','1']);\n",
    "#plt.savefig('tree.png',dpi=900,bbox_inches='tight')\n",
    "plt.show()"
   ]
  },
  {
   "cell_type": "code",
   "execution_count": null,
   "id": "f6fb72fd",
   "metadata": {},
   "outputs": [],
   "source": []
  }
 ],
 "metadata": {
  "kernelspec": {
   "display_name": "Python 3 (ipykernel)",
   "language": "python",
   "name": "python3"
  },
  "language_info": {
   "codemirror_mode": {
    "name": "ipython",
    "version": 3
   },
   "file_extension": ".py",
   "mimetype": "text/x-python",
   "name": "python",
   "nbconvert_exporter": "python",
   "pygments_lexer": "ipython3",
   "version": "3.9.12"
  }
 },
 "nbformat": 4,
 "nbformat_minor": 5
}
